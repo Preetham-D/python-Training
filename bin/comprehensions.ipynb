{
 "cells": [
  {
   "cell_type": "code",
   "execution_count": 1,
   "metadata": {},
   "outputs": [],
   "source": [
    "%config IPCompleter.greedy=True #to give intelisense in notebook"
   ]
  },
  {
   "cell_type": "code",
   "execution_count": 4,
   "metadata": {},
   "outputs": [
    {
     "name": "stdout",
     "output_type": "stream",
     "text": [
      "[0, 1, 2, 3, 4, 5, 6, 7, 8, 9]\n",
      "[0, 4, 16, 36, 64]\n"
     ]
    }
   ],
   "source": [
    "l1= [i for i in range(10)]\n",
    "print(l1)\n",
    "l2 = [i*i for i in l1 if i%2 == 0]\n",
    "print(l2)"
   ]
  },
  {
   "cell_type": "code",
   "execution_count": 11,
   "metadata": {},
   "outputs": [
    {
     "name": "stdout",
     "output_type": "stream",
     "text": [
      "['123.123.123.123', '123.123.123.123', '123.123.123.123', '123.123.123.123', '123.123.123.123', '123.123.123.123']\n",
      "['wpaper.gif', 'No Image', '5star2000.gif', '5star.gif', 'a2hlogo.jpg', 'No Image']\n"
     ]
    }
   ],
   "source": [
    "f2 = open('serverlog.txt')\n",
    "ips = [line.split()[0] for line in f2 if line[:3].isdigit()]\n",
    "print(ips)\n",
    "f2.seek(0)\n",
    "pics = [line.split()[6].lstrip('/pics/') if line.split()[6].startswith('/pics') else 'No Image' for line in f2 if line[:3].isdigit()]\n",
    "# execute from right to left and for loop is must\n",
    "print(pics)"
   ]
  },
  {
   "cell_type": "code",
   "execution_count": 25,
   "metadata": {},
   "outputs": [
    {
     "name": "stdout",
     "output_type": "stream",
     "text": [
      "<generator object <genexpr> at 0x000000297C220A50>\n",
      "[0, 1, 2, 3, 4, 5, 6, 7, 8, 9]\n",
      "()\n"
     ]
    }
   ],
   "source": [
    "t = (i for i in range(10)) #creates a generator object\n",
    "print(t)\n",
    "print(list(t))\n",
    "print(tuple(t))\n"
   ]
  },
  {
   "cell_type": "code",
   "execution_count": 27,
   "metadata": {},
   "outputs": [
    {
     "name": "stdout",
     "output_type": "stream",
     "text": [
      "{0: 'wpaper.gif', 4: 'No Image', 16: '5star2000.gif', 36: '5star.gif', 64: 'a2hlogo.jpg'}\n"
     ]
    }
   ],
   "source": [
    "D = {k:v for k,v in zip(l2,pics)}\n",
    "print(D)"
   ]
  },
  {
   "cell_type": "code",
   "execution_count": null,
   "metadata": {},
   "outputs": [],
   "source": []
  }
 ],
 "metadata": {
  "kernelspec": {
   "display_name": "Python 3",
   "language": "python",
   "name": "python3"
  },
  "language_info": {
   "codemirror_mode": {
    "name": "ipython",
    "version": 3
   },
   "file_extension": ".py",
   "mimetype": "text/x-python",
   "name": "python",
   "nbconvert_exporter": "python",
   "pygments_lexer": "ipython3",
   "version": "3.8.0"
  }
 },
 "nbformat": 4,
 "nbformat_minor": 4
}
