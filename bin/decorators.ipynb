{
 "cells": [
  {
   "cell_type": "code",
   "execution_count": 1,
   "metadata": {},
   "outputs": [],
   "source": [
    "%config IPCompleter.greedy = True "
   ]
  },
  {
   "cell_type": "code",
   "execution_count": 2,
   "metadata": {},
   "outputs": [
    {
     "name": "stdout",
     "output_type": "stream",
     "text": [
      "Result is: 40 End of add\n",
      "Result is: -20 End of sub\n"
     ]
    }
   ],
   "source": [
    "def add1(a,b):\n",
    "    print('Result is:',a+b+a,'End of add')\n",
    "def sub1(a,b):\n",
    "    print('Result is:',a-b-a,'End of sub')\n",
    "add1(10,20)\n",
    "sub1(10,20)"
   ]
  },
  {
   "cell_type": "code",
   "execution_count": 6,
   "metadata": {},
   "outputs": [
    {
     "name": "stdout",
     "output_type": "stream",
     "text": [
      "Result is:\n",
      "40\n",
      "End of RES\n",
      "Result is:\n",
      "30\n",
      "End of RES\n"
     ]
    }
   ],
   "source": [
    "def mydec(func):\n",
    "    \n",
    "    def decorated_fun(x,y):\n",
    "        \n",
    "        print('Result is:')\n",
    "        func(x,y)\n",
    "        print('End of RES')\n",
    "        \n",
    "    return decorated_fun\n",
    "\n",
    "@mydec\n",
    "def add2(a,b):\n",
    "    print(a+b+a)\n",
    "    \n",
    "add2(10,20)\n",
    "\n",
    "def add3(a,b):\n",
    "        print(a+b)\n",
    "f= mydec(add3)\n",
    "f(10,20)\n"
   ]
  },
  {
   "cell_type": "raw",
   "metadata": {},
   "source": [
    "# first class functions => they take atleast one func as arg\n",
    "closesures"
   ]
  },
  {
   "cell_type": "code",
   "execution_count": null,
   "metadata": {},
   "outputs": [],
   "source": []
  }
 ],
 "metadata": {
  "kernelspec": {
   "display_name": "Python 3.8.0 64-bit ('training': venv)",
   "language": "python",
   "name": "python38064bittrainingvenv19964c2bccb1434c850ff4ca6cd876dd"
  },
  "language_info": {
   "codemirror_mode": {
    "name": "ipython",
    "version": 3
   },
   "file_extension": ".py",
   "mimetype": "text/x-python",
   "name": "python",
   "nbconvert_exporter": "python",
   "pygments_lexer": "ipython3",
   "version": "3.8.0"
  }
 },
 "nbformat": 4,
 "nbformat_minor": 4
}
