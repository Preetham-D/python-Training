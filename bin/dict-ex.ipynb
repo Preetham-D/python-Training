{
 "cells": [
  {
   "cell_type": "code",
   "execution_count": 25,
   "metadata": {},
   "outputs": [
    {
     "name": "stdout",
     "output_type": "stream",
     "text": [
      "{'course': 'python', 'dur': 6, 'loc': 'BLR'} 6\n",
      "No such key\n",
      "{'course': ['python', 'C'], 'dur': 6, 'loc': 'BLR'}\n",
      "['python', 'C']\n",
      "{'loc': 'BLR'}\n",
      "('loc', 'BLR')\n",
      "{'course': 'python', 'dur': 6}\n",
      "{'course': 'python', 'dur': 6} ['course', 'dur']\n"
     ]
    }
   ],
   "source": [
    "# Set and dictionary are unordered datatype\n",
    "D = {\n",
    "    'course': 'python',\n",
    "    'dur':5,\n",
    "    'loc':'BLR',\n",
    "    'dur':6\n",
    "    }\n",
    "print(D,D['dur'])\n",
    "# print(D['asd']) throws error\n",
    "print(D.get('abc','No such key'))\n",
    "D['course'] = ['python','C']\n",
    "print(D)\n",
    "print(D.pop('course'))\n",
    "del D['dur'] #generic delete ex x= 10 del x will also work\n",
    "print(D)\n",
    "D = {\n",
    "    'course': 'python',\n",
    "    'dur':5,\n",
    "    'loc':'BLR',\n",
    "    'dur':6\n",
    "    }\n",
    "print(D.popitem())\n",
    "print(D)\n",
    "ld = list(D)\n",
    "print(D,ld)"
   ]
  },
  {
   "cell_type": "code",
   "execution_count": 26,
   "metadata": {},
   "outputs": [
    {
     "name": "stdout",
     "output_type": "stream",
     "text": [
      "['course', 'dur'] dict_values(['python', 6]) dict_items([('course', 'python'), ('dur', 6)])\n"
     ]
    }
   ],
   "source": [
    "print(list(D.keys()),D.values(),D.items())"
   ]
  },
  {
   "cell_type": "code",
   "execution_count": 16,
   "metadata": {},
   "outputs": [
    {
     "name": "stdout",
     "output_type": "stream",
     "text": [
      "{10, 'py'}\n",
      "{10, 20, 'py'}\n"
     ]
    }
   ],
   "source": [
    "# set class\n",
    "# unordered collection\n",
    "# only holds immutable objects\n",
    "# mutable\n",
    "# no index no key\n",
    "# unique values\n",
    "s = {10,10, 'py','py'}\n",
    "print(s)\n",
    "s.add(10)\n",
    "s.add(20)\n",
    "print(s)"
   ]
  },
  {
   "cell_type": "code",
   "execution_count": 17,
   "metadata": {},
   "outputs": [
    {
     "name": "stdout",
     "output_type": "stream",
     "text": [
      "{10, 'py'}\n",
      "{'py'}\n"
     ]
    }
   ],
   "source": [
    "s.remove(20)\n",
    "print(s)\n",
    "s.pop()\n",
    "print(s)"
   ]
  },
  {
   "cell_type": "code",
   "execution_count": 22,
   "metadata": {},
   "outputs": [
    {
     "name": "stdout",
     "output_type": "stream",
     "text": [
      "union {40, 10, 50, 20, 60, 30}\n",
      "Intersection {40, 30}\n",
      "Difference {10, 20}\n"
     ]
    }
   ],
   "source": [
    "# set operations\n",
    "s1 = {10,20,30,40}\n",
    "s2 = {30,40,50,60}\n",
    "print('union',s1.union(s2))\n",
    "print('Intersection', s1.intersection(s2))\n",
    "print('Difference',s1.difference(s2))"
   ]
  },
  {
   "cell_type": "code",
   "execution_count": 23,
   "metadata": {},
   "outputs": [
    {
     "name": "stdout",
     "output_type": "stream",
     "text": [
      "[10, 20, 10] {10, 20} [10, 20]\n"
     ]
    }
   ],
   "source": [
    "l = [10,20,10]\n",
    "s6 = set(l)\n",
    "l2 = list(s6)\n",
    "print(l,s6,l2)"
   ]
  },
  {
   "cell_type": "code",
   "execution_count": 31,
   "metadata": {},
   "outputs": [
    {
     "name": "stdout",
     "output_type": "stream",
     "text": [
      "frozenset({40, 50, 60, 30})\n"
     ]
    }
   ],
   "source": [
    "# frozen set immutable\n",
    "s3 = frozenset(s2)\n",
    "print(s3)\n",
    "# s3.add(70) 'frozenset' object has no attribute 'add'"
   ]
  },
  {
   "cell_type": "code",
   "execution_count": null,
   "metadata": {},
   "outputs": [],
   "source": []
  }
 ],
 "metadata": {
  "kernelspec": {
   "display_name": "Python 3",
   "language": "python",
   "name": "python3"
  },
  "language_info": {
   "codemirror_mode": {
    "name": "ipython",
    "version": 3
   },
   "file_extension": ".py",
   "mimetype": "text/x-python",
   "name": "python",
   "nbconvert_exporter": "python",
   "pygments_lexer": "ipython3",
   "version": "3.8.0"
  }
 },
 "nbformat": 4,
 "nbformat_minor": 4
}
