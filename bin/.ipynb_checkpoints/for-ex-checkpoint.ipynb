{
 "cells": [
  {
   "cell_type": "code",
   "execution_count": 3,
   "metadata": {},
   "outputs": [
    {
     "name": "stdout",
     "output_type": "stream",
     "text": [
      "Monica\n"
     ]
    }
   ],
   "source": [
    "# zip\n",
    "a = (\"John\", \"Charles\", \"Mike\")\n",
    "b = (\"Jenny\", \"Christy\", \"Monica\")\n",
    "c = (1,2,3)\n",
    "x = zip(a, b,c)\n",
    "\n",
    "#use the tuple() function to display a readable version of the result:\n",
    "for i in range(len(b)):\n",
    "#     print(b[i])\n",
    "    v = b[i]\n",
    "print(v)\n",
    "# print(tuple(x))\n",
    "# for i , j , k in x:\n",
    "#     print(i,j,k)"
   ]
  },
  {
   "cell_type": "code",
   "execution_count": 21,
   "metadata": {},
   "outputs": [
    {
     "name": "stdout",
     "output_type": "stream",
     "text": [
      "[0, 1, 2, 3, 4, 5, 6, 7, 8, 9]\n",
      "[10, 9, 8, 7, 6, 5, 4, 3, 2, 1]\n",
      "[1, 3, 5, 7, 9]\n",
      "2\n",
      "4\n",
      "6\n",
      "8\n",
      "pokade\n"
     ]
    }
   ],
   "source": [
    "# range The range() function returns a sequence of numbers, starting from 0 by default,\n",
    "# and increments by 1 (by default), and ends at a specified number.\n",
    "r1= range(10)\n",
    "r2 = range(10,0,-1)\n",
    "r3 = range(1,10,2)\n",
    "print(list(r1),list(r2),list(r3),sep='\\n')\n",
    "for i in range(2,10,2):\n",
    "    print(i)\n",
    "else: #The else keyword in a for loop specifies a block of code to be executed when the loop is finished:\n",
    "    print('pokade')"
   ]
  },
  {
   "cell_type": "code",
   "execution_count": 20,
   "metadata": {},
   "outputs": [
    {
     "name": "stdout",
     "output_type": "stream",
     "text": [
      "False\n",
      "True\n",
      "True\n"
     ]
    }
   ],
   "source": [
    "# With the continue statement we can stop the current iteration of the loop, and continue with the next:\n",
    "# With the break statement we can stop the loop before it has looped through all the items:\n",
    "comp = ['ibm','boe1','sap','boe2']\n",
    "comp2 = comp\n",
    "l1 = [1,2,3,42]\n",
    "print(l1.__contains__(4))\n",
    "print(comp.__contains__('boe1'))\n",
    "print(comp.__eq__(comp2))"
   ]
  },
  {
   "cell_type": "code",
   "execution_count": 25,
   "metadata": {},
   "outputs": [
    {
     "name": "stdout",
     "output_type": "stream",
     "text": [
      "10 10 10300\n"
     ]
    }
   ],
   "source": [
    "# i = input('name: ')\n",
    "# j = input('number: ')\n",
    "j='10'\n",
    "k = int(j)\n",
    "l = eval(j) # eval treats the argument as expression, it'll execute the expression and return output. arg must be string\n",
    "ll = eval(j+'100+200')\n",
    "print(k,l,ll)"
   ]
  },
  {
   "cell_type": "code",
   "execution_count": null,
   "metadata": {},
   "outputs": [],
   "source": []
  }
 ],
 "metadata": {
  "kernelspec": {
   "display_name": "Python 3",
   "language": "python",
   "name": "python3"
  },
  "language_info": {
   "codemirror_mode": {
    "name": "ipython",
    "version": 3
   },
   "file_extension": ".py",
   "mimetype": "text/x-python",
   "name": "python",
   "nbconvert_exporter": "python",
   "pygments_lexer": "ipython3",
   "version": "3.8.0"
  }
 },
 "nbformat": 4,
 "nbformat_minor": 4
}
