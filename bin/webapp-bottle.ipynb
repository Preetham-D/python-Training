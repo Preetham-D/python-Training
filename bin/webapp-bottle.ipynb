{
 "cells": [
  {
   "cell_type": "code",
   "execution_count": 1,
   "metadata": {},
   "outputs": [],
   "source": [
    "%config IPCompleter.greedy = True "
   ]
  },
  {
   "cell_type": "raw",
   "metadata": {},
   "source": [
    "# bottle and flask micro\n",
    "# Django => MVT model view template\n",
    "# pyramid and web2.py => MVC model view control\n",
    "\n",
    "all framework comes with inbuilt server WSGI(web server gateway interface)\n",
    "\n",
    "\n",
    "API => application programming interface\n",
    "SOAP => simple object access protocal (complex to implement and manage)\n",
    "REST => representational state transfer (http)\n",
    "RESTAPI\n",
    "RESTFUL webservices => rest\n",
    "\n",
    "bottle               flask                        django\n",
    ".tpl                 .html                       .html\n",
    "template_path        create dir templates        create dir templates\n",
    "STE                  JINJA2                      DTE\n",
    "%statement           {%stmt%}                    same\n",
    "to display use {{vname}}  same                    same\n",
    "%for                  {%for}                      same\n",
    "%end                  {%endfor %}                same\n",
    "\n",
    "template engine will exe"
   ]
  },
  {
   "cell_type": "code",
   "execution_count": 2,
   "metadata": {},
   "outputs": [],
   "source": [
    "import bottle as b\n",
    "\n",
    "app = b.Bottle()\n",
    "b.TEMPLATE_PATH.append(r'E:\\Workspace\\bin\\template')\n",
    "@app.error(404)\n",
    "def errorpage(err):\n",
    "    return 'Page Under Construction'\n"
   ]
  },
  {
   "cell_type": "code",
   "execution_count": 3,
   "metadata": {},
   "outputs": [],
   "source": [
    "@app.route('/')\n",
    "def indexpage():\n",
    "    return '<b>Welcome PDB</b>'\n",
    "\n",
    "@app.route('/about')\n",
    "def aboutpage():\n",
    "    return 'about'\n",
    "\n",
    "@app.route('/login')\n",
    "def loginpage():\n",
    "    return b.template('login.tpl')\n",
    "\n",
    "@app.route('/verify',method='post')\n",
    "def verifypage():\n",
    "    u = b.request.forms.get('uname')\n",
    "    p = b.request.forms.get('pw')\n",
    "    if not (u=='abc' and p=='xyz'):\n",
    "        return b.abort(201,'Access Denied')\n",
    "    else:\n",
    "#         return 'Login Success'\n",
    "        import sqlite3 as sq\n",
    "        con = sq.connect(\"mydb.sqlite3\")\n",
    "        cur = con.cursor()\n",
    "        cur.execute(\"SELECT * FROM LOGDATA\")\n",
    "        result = cur.fetchall()\n",
    "        return b.template('report.tpl',res=result)\n",
    "\n",
    "@app.route('/downloads/<fname>')\n",
    "def downloadpage(fname):\n",
    "    return b.static_file(filename = fname, root=r'E:\\Workspace\\bin')\n",
    "\n",
    "@app.route('/report')\n",
    "def red():\n",
    "    return b.redirect('/login')\n",
    "\n",
    "@app.route('/empid/<eid:int>')\n",
    "def empid(eid):\n",
    "    return 'your ID:'+str(eid)\n",
    "\n",
    "@app.route('/regex/<r:re:[a-z0-9]+')\n",
    "def regex(r):\n",
    "    return 'Received'+str(r)\n",
    "\n",
    "@app.route('/getips')\n",
    "def getips():\n",
    "    r = ['192','168','0','112']\n",
    "    D = dict(enumerate(r))\n",
    "    return D"
   ]
  },
  {
   "cell_type": "code",
   "execution_count": 4,
   "metadata": {},
   "outputs": [],
   "source": [
    "@app.route('/empapi',method='post')\n",
    "def empapi():\n",
    "    r = b.request.params\n",
    "    r = dict(r)\n",
    "    return r\n",
    "@app.route('/json')\n",
    "def fromjson():\n",
    "    f = open('mydata.json','w')\n",
    "    import json\n",
    "    D = {'a':10,'b':20}\n",
    "    json.dump(D,f)\n",
    "    f.close()\n",
    "    with open('mydata.json','r') as f:\n",
    "        r = json.load(f)\n",
    "    return r\n",
    "    "
   ]
  },
  {
   "cell_type": "code",
   "execution_count": null,
   "metadata": {
    "scrolled": false
   },
   "outputs": [
    {
     "name": "stderr",
     "output_type": "stream",
     "text": [
      "Bottle v0.12.18 server starting up (using WSGIRefServer())...\n",
      "Listening on http://0.0.0.0:1234/\n",
      "Hit Ctrl-C to quit.\n",
      "\n",
      "127.0.0.1 - - [23/Jan/2020 16:47:12] \"GET /json HTTP/1.1\" 200 18\n",
      "127.0.0.1 - - [23/Jan/2020 16:49:32] \"GET /getips HTTP/1.1\" 200 46\n",
      "127.0.0.1 - - [23/Jan/2020 16:49:42] \"GET /getips HTTP/1.1\" 200 46\n",
      "127.0.0.1 - - [23/Jan/2020 16:49:54] \"GET /getips HTTP/1.1\" 200 46\n",
      "127.0.0.1 - - [23/Jan/2020 16:54:51] \"GET /getips HTTP/1.1\" 200 46\n",
      "127.0.0.1 - - [23/Jan/2020 16:54:52] \"GET /empapi HTTP/1.1\" 405 739\n",
      "127.0.0.1 - - [23/Jan/2020 16:54:53] \"GET /json HTTP/1.1\" 200 18\n",
      "127.0.0.1 - - [23/Jan/2020 16:55:02] \"GET /getips HTTP/1.1\" 200 46\n",
      "127.0.0.1 - - [23/Jan/2020 16:55:03] \"GET /empapi HTTP/1.1\" 405 739\n",
      "127.0.0.1 - - [23/Jan/2020 16:55:04] \"GET /json HTTP/1.1\" 200 18\n",
      "127.0.0.1 - - [23/Jan/2020 16:56:34] \"GET /getips HTTP/1.1\" 200 46\n",
      "127.0.0.1 - - [23/Jan/2020 16:56:35] \"POST /empapi?name=x&pw=y HTTP/1.1\" 200 24\n",
      "127.0.0.1 - - [23/Jan/2020 16:56:36] \"GET /json HTTP/1.1\" 200 18\n",
      "127.0.0.1 - - [23/Jan/2020 16:57:18] \"GET /getips HTTP/1.1\" 200 46\n",
      "127.0.0.1 - - [23/Jan/2020 16:57:19] \"POST /empapi?name=x&pw=y HTTP/1.1\" 200 24\n",
      "127.0.0.1 - - [23/Jan/2020 16:57:20] \"GET /json HTTP/1.1\" 200 18\n",
      "127.0.0.1 - - [23/Jan/2020 17:00:22] \"GET /getips HTTP/1.1\" 200 46\n",
      "127.0.0.1 - - [23/Jan/2020 17:00:34] \"GET /getips HTTP/1.1\" 200 46\n",
      "127.0.0.1 - - [23/Jan/2020 17:00:35] \"POST /empapi?name=x&pw=y HTTP/1.1\" 200 24\n",
      "127.0.0.1 - - [23/Jan/2020 17:00:36] \"GET /json HTTP/1.1\" 200 18\n"
     ]
    }
   ],
   "source": [
    "app.run(host='0.0.0.0',port=1234)"
   ]
  },
  {
   "cell_type": "code",
   "execution_count": null,
   "metadata": {},
   "outputs": [],
   "source": []
  },
  {
   "cell_type": "code",
   "execution_count": null,
   "metadata": {},
   "outputs": [],
   "source": []
  }
 ],
 "metadata": {
  "kernelspec": {
   "display_name": "Python 3.8.0 64-bit ('training': venv)",
   "language": "python",
   "name": "python38064bittrainingvenv19964c2bccb1434c850ff4ca6cd876dd"
  },
  "language_info": {
   "codemirror_mode": {
    "name": "ipython",
    "version": 3
   },
   "file_extension": ".py",
   "mimetype": "text/x-python",
   "name": "python",
   "nbconvert_exporter": "python",
   "pygments_lexer": "ipython3",
   "version": "3.8.0"
  }
 },
 "nbformat": 4,
 "nbformat_minor": 4
}
