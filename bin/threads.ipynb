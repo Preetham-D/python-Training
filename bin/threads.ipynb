{
 "cells": [
  {
   "cell_type": "code",
   "execution_count": 1,
   "metadata": {},
   "outputs": [],
   "source": [
    "%config IPCompleter.greedy = True"
   ]
  },
  {
   "cell_type": "code",
   "execution_count": 2,
   "metadata": {},
   "outputs": [],
   "source": [
    "import time\n",
    "\n",
    "def sq():\n",
    "#     time.sleep(0.2)\n",
    "    l = [1,2,3,4]\n",
    "    res=[]\n",
    "    for i in range(100000):\n",
    "        res.append(i*i)\n",
    "#     print(res)\n",
    "    \n",
    "def cube():\n",
    "#     time.sleep(0.2)\n",
    "    l = [1,2,3,4]\n",
    "    res = []\n",
    "    for i in range(100000):\n",
    "        res.append(i*i*i)\n",
    "#     print(res)"
   ]
  },
  {
   "cell_type": "code",
   "execution_count": 3,
   "metadata": {},
   "outputs": [
    {
     "name": "stdout",
     "output_type": "stream",
     "text": [
      "total time 0.09006404876708984\n"
     ]
    }
   ],
   "source": [
    "t1 = time.time()\n",
    "sq()\n",
    "cube()\n",
    "t2 = time.time()\n",
    "print('total time',t2-t1)"
   ]
  },
  {
   "cell_type": "code",
   "execution_count": 4,
   "metadata": {},
   "outputs": [
    {
     "name": "stdout",
     "output_type": "stream",
     "text": [
      "time taken 0.07071685791015625\n"
     ]
    }
   ],
   "source": [
    "from threading import Thread, Lock\n",
    "\n",
    "t1 = Thread(target=sq)\n",
    "t2 = Thread(target=cube)\n",
    "st = time.time()\n",
    "t1.start()\n",
    "t2.start()\n",
    "t1.join()\n",
    "t2.join()\n",
    "et = time.time()\n",
    "print('time taken',et-st)"
   ]
  },
  {
   "cell_type": "code",
   "execution_count": 5,
   "metadata": {},
   "outputs": [
    {
     "name": "stdout",
     "output_type": "stream",
     "text": [
      "time taken 0.24956345558166504\n"
     ]
    }
   ],
   "source": [
    "from multiprocessing import Process\n",
    "\n",
    "p1 = Process(target=sq)\n",
    "p2 = Process(target=cube)\n",
    "\n",
    "st = time.time()\n",
    "p1.start()\n",
    "p2.start()\n",
    "p1.join()\n",
    "p1.join()\n",
    "et = time.time()\n",
    "print('time taken',et-st)"
   ]
  },
  {
   "cell_type": "code",
   "execution_count": null,
   "metadata": {},
   "outputs": [],
   "source": []
  }
 ],
 "metadata": {
  "kernelspec": {
   "display_name": "Python 3.8.0 64-bit ('training': venv)",
   "language": "python",
   "name": "python38064bittrainingvenv19964c2bccb1434c850ff4ca6cd876dd"
  },
  "language_info": {
   "codemirror_mode": {
    "name": "ipython",
    "version": 3
   },
   "file_extension": ".py",
   "mimetype": "text/x-python",
   "name": "python",
   "nbconvert_exporter": "python",
   "pygments_lexer": "ipython3",
   "version": "3.8.0"
  }
 },
 "nbformat": 4,
 "nbformat_minor": 4
}
