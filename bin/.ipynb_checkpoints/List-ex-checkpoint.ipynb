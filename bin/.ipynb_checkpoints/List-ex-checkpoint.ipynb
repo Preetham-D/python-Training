{
 "cells": [
  {
   "cell_type": "code",
   "execution_count": 13,
   "metadata": {
    "scrolled": true
   },
   "outputs": [
    {
     "name": "stdout",
     "output_type": "stream",
     "text": [
      "[10, 12.3, 'python', ['a', 'b']]\n",
      "12.3\n",
      "a\n",
      "['start', 10, 12.3, 'python', ['a', 'b'], 'end']\n"
     ]
    }
   ],
   "source": [
    "l2 = [10,12.3,'python',['a','b']]\n",
    "print(l2,l2[1],l2[3][0], sep='\\n')\n",
    "l2.append('end') \n",
    "l2.insert(0,'start')\n",
    "print(l2)"
   ]
  },
  {
   "cell_type": "code",
   "execution_count": 25,
   "metadata": {},
   "outputs": [
    {
     "name": "stdout",
     "output_type": "stream",
     "text": [
      "[10, 12, 'a', 'b'] [10, 12, 10, 12, 10, 12, 10, 12, 10, 12, 10, 12, 10, 12, 10, 12, 10, 12, 10, 12]\n",
      "[10, 12, 'a', 'b']\n",
      "b [10, 12, 'a']\n",
      "10\n",
      "None\n",
      "[12]\n"
     ]
    }
   ],
   "source": [
    "# remove element\n",
    "l3 = [10,12]\n",
    "l4 = ['a','b']\n",
    "l5 = l3*10\n",
    "print(l3+l4,l5)\n",
    "l3.extend(l4)\n",
    "print(l3)\n",
    "print(l3.pop(),l3)\n",
    "print(l3.pop(0))\n",
    "l3 = [10,12]\n",
    "print(l3.remove(10))\n",
    "print(l3)"
   ]
  },
  {
   "cell_type": "code",
   "execution_count": 28,
   "metadata": {},
   "outputs": [
    {
     "name": "stdout",
     "output_type": "stream",
     "text": [
      "['java', 10, 12.3, 'python', ['a', 'b'], 'end']\n",
      "['java', 10, 12.3, 'python', ['a', 'b'], 'end']\n"
     ]
    }
   ],
   "source": [
    "# update\n",
    "l2[0]='java'\n",
    "print(l2)"
   ]
  },
  {
   "cell_type": "code",
   "execution_count": 34,
   "metadata": {},
   "outputs": [
    {
     "name": "stdout",
     "output_type": "stream",
     "text": [
      "[10, 20, 30] ['z', 'b', 'a'] [20, 'a', 10, 'b']\n"
     ]
    }
   ],
   "source": [
    "# some other methods\n",
    "l7 = [20,10,30]\n",
    "l8 = ['z','a','b']\n",
    "l9 = [20,'a',10,'b']\n",
    "l7.sort()\n",
    "l8.sort(reverse=True)\n",
    "# l9.sort() sort needs homogenous data\n",
    "print(l7,l8,l9)"
   ]
  },
  {
   "cell_type": "code",
   "execution_count": 46,
   "metadata": {},
   "outputs": [
    {
     "name": "stdout",
     "output_type": "stream",
     "text": [
      "481223151872 481223151872 481223258304 481208303168\n",
      "481208348096 481208348096 481208348096 481223260032\n",
      "20 20 10 10\n",
      "['z', 'b'] ['z', 'b'] ['z', 'b'] ['a', 'b']\n",
      "481208348096 481223260032\n"
     ]
    }
   ],
   "source": [
    "# copy\n",
    "from copy import deepcopy\n",
    "l1 = [10,['a','b']]\n",
    "l2 = l1 #reference copy => same id for both l1 and l2\n",
    "l3 = l1.copy() #shallow copy => id of list elements will be same as l1 elements\n",
    "l4 = deepcopy(l1)\n",
    "l1[0]=20\n",
    "print(id(l1),id(l2),id(l3),id(l4))\n",
    "print(id(l1[1]),id(l2[1]),id(l3[1]),id(l4[1]))\n",
    "l1[1][0] = 'z'\n",
    "print(l1[0],l2[0],l3[0],l4[0])\n",
    "print(l1[1],l2[1],l3[1],l4[1])\n",
    "print(id(l1[1]),id(l4[1]))\n"
   ]
  },
  {
   "cell_type": "code",
   "execution_count": 55,
   "metadata": {},
   "outputs": [
    {
     "name": "stdout",
     "output_type": "stream",
     "text": [
      "481208188224\n",
      "(10, 20, [5, 2]) 481208188224\n",
      "(10, 20, [5, 2]) 481208188224\n",
      "(10, [5, 2]) (10,)\n"
     ]
    }
   ],
   "source": [
    "# tuple immutable\n",
    "\n",
    "T1 = (10,20,[1,2])\n",
    "print(id(T1))\n",
    "T1[2][0] = 5\n",
    "print(T1,id(T1))\n",
    "# T1[1] = 100 will throw error\n",
    "print(T1,id(T1))\n",
    "print(T1[-4-1:4:2],T1[0:-1:2])\n",
    " \n"
   ]
  },
  {
   "cell_type": "code",
   "execution_count": 69,
   "metadata": {},
   "outputs": [
    {
     "name": "stdout",
     "output_type": "stream",
     "text": [
      "(10, 100, 1000) [10, 100, 1000] (10, 100, 1000) [(10, 100, 1000)]\n",
      "gh\n"
     ]
    }
   ],
   "source": [
    "# tuple to list\n",
    "t3 = (10,100,1000)\n",
    "l3 = list(t3)\n",
    "l4 = [t3]\n",
    "print(t3,l3,tuple(l3),l4)"
   ]
  },
  {
   "cell_type": "code",
   "execution_count": null,
   "metadata": {},
   "outputs": [],
   "source": []
  },
  {
   "cell_type": "code",
   "execution_count": null,
   "metadata": {},
   "outputs": [],
   "source": []
  }
 ],
 "metadata": {
  "kernelspec": {
   "display_name": "Python 3",
   "language": "python",
   "name": "python3"
  },
  "language_info": {
   "codemirror_mode": {
    "name": "ipython",
    "version": 3
   },
   "file_extension": ".py",
   "mimetype": "text/x-python",
   "name": "python",
   "nbconvert_exporter": "python",
   "pygments_lexer": "ipython3",
   "version": "3.8.0"
  }
 },
 "nbformat": 4,
 "nbformat_minor": 4
}
