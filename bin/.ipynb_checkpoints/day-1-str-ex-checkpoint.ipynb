{
 "cells": [
  {
   "cell_type": "code",
   "execution_count": 1,
   "metadata": {},
   "outputs": [
    {
     "name": "stdout",
     "output_type": "stream",
     "text": [
      "E\n"
     ]
    }
   ],
   "source": [
    "g= 'WEL COME'\n",
    "print(g[len(g)-1])"
   ]
  },
  {
   "cell_type": "code",
   "execution_count": 2,
   "metadata": {},
   "outputs": [
    {
     "name": "stdout",
     "output_type": "stream",
     "text": [
      "E\n"
     ]
    }
   ],
   "source": [
    "print(g[-1])"
   ]
  },
  {
   "cell_type": "code",
   "execution_count": 3,
   "metadata": {},
   "outputs": [
    {
     "name": "stdout",
     "output_type": "stream",
     "text": [
      "COME\n"
     ]
    }
   ],
   "source": [
    "print(g[-4:])"
   ]
  },
  {
   "cell_type": "code",
   "execution_count": 4,
   "metadata": {},
   "outputs": [
    {
     "name": "stdout",
     "output_type": "stream",
     "text": [
      "True\n"
     ]
    }
   ],
   "source": [
    "r1 = g.startswith('WEL')\n",
    "print(r1)"
   ]
  },
  {
   "cell_type": "code",
   "execution_count": 5,
   "metadata": {},
   "outputs": [
    {
     "name": "stdout",
     "output_type": "stream",
     "text": [
      "WEL CO\n"
     ]
    }
   ],
   "source": [
    "print(g[:6])"
   ]
  },
  {
   "cell_type": "code",
   "execution_count": 12,
   "metadata": {},
   "outputs": [
    {
     "name": "stdout",
     "output_type": "stream",
     "text": [
      "True True wel come False Wel Come\n"
     ]
    }
   ],
   "source": [
    "print(g.endswith('ME'), g.isupper(),g.lower(),g.istitle(),g.title())"
   ]
  },
  {
   "cell_type": "code",
   "execution_count": 14,
   "metadata": {},
   "outputs": [
    {
     "name": "stdout",
     "output_type": "stream",
     "text": [
      "2 WeL COMe WEL COME\n"
     ]
    }
   ],
   "source": [
    "print(g.count('E'),g.replace('E','e'),g)"
   ]
  },
  {
   "cell_type": "code",
   "execution_count": 26,
   "metadata": {},
   "outputs": [
    {
     "name": "stdout",
     "output_type": "stream",
     "text": [
      "7 1 -1\n",
      "7 1\n",
      "7\n"
     ]
    }
   ],
   "source": [
    "print(g.find('E',3),g.find('E'),g.find('E',3,7)) #start from 3 till 8 (8 exculded)\n",
    "print(g.index('E',-1),g.index('E'))\n",
    "print(g.rindex('E')) # looks from right side"
   ]
  },
  {
   "cell_type": "code",
   "execution_count": 28,
   "metadata": {},
   "outputs": [
    {
     "name": "stdout",
     "output_type": "stream",
     "text": [
      "wel  come\n",
      "wel  come  \n",
      "  wel  come\n"
     ]
    }
   ],
   "source": [
    "h = '  wel  come  '\n",
    "print(h.strip(), h.lstrip(),h.rstrip(), sep='\\n')"
   ]
  },
  {
   "cell_type": "code",
   "execution_count": 31,
   "metadata": {},
   "outputs": [
    {
     "name": "stdout",
     "output_type": "stream",
     "text": [
      "l[com\n",
      "[wel[come][] wel[come][]\n"
     ]
    }
   ],
   "source": [
    "i = '[wel[come][]'\n",
    "print(i.strip(']w[e]'))# stops as soon as a not found case is found on either side\n",
    "print(i.rstrip('w['),i.lstrip(']e['))"
   ]
  },
  {
   "cell_type": "code",
   "execution_count": 38,
   "metadata": {},
   "outputs": [
    {
     "name": "stdout",
     "output_type": "stream",
     "text": [
      "['W', 'L COM', '']\n"
     ]
    }
   ],
   "source": [
    "print(g.split('E'))"
   ]
  },
  {
   "cell_type": "code",
   "execution_count": 42,
   "metadata": {},
   "outputs": [
    {
     "name": "stdout",
     "output_type": "stream",
     "text": [
      "add of 10 and 20 is 30\n",
      "add of 20 and 10 is 30\n",
      "add of 10 and 20 is 30\n"
     ]
    }
   ],
   "source": [
    "x=10\n",
    "y=20\n",
    "z=x+y\n",
    "print('add of {} and {} is {}'.format(x,y,z))\n",
    "print('add of {1} and {0} is {2}'.format(x,y,z))\n",
    "print(f'add of {x} and {y} is {z}')"
   ]
  },
  {
   "cell_type": "code",
   "execution_count": 46,
   "metadata": {},
   "outputs": [
    {
     "name": "stdout",
     "output_type": "stream",
     "text": [
      "WEL COME-  wel  come  \n",
      "W-E-L- -C-O-M-E\n"
     ]
    }
   ],
   "source": [
    "print('-'.join([g,h]))\n",
    "print('-'.join(g))"
   ]
  },
  {
   "cell_type": "code",
   "execution_count": null,
   "metadata": {},
   "outputs": [],
   "source": []
  }
 ],
 "metadata": {
  "file_extension": ".py",
  "kernelspec": {
   "display_name": "Python 3",
   "language": "python",
   "name": "python3"
  },
  "language_info": {
   "codemirror_mode": {
    "name": "ipython",
    "version": 3
   },
   "file_extension": ".py",
   "mimetype": "text/x-python",
   "name": "python",
   "nbconvert_exporter": "python",
   "pygments_lexer": "ipython3",
   "version": "3.8.0"
  },
  "mimetype": "text/x-python",
  "name": "python",
  "npconvert_exporter": "python",
  "pygments_lexer": "ipython3",
  "version": 3
 },
 "nbformat": 4,
 "nbformat_minor": 2
}
