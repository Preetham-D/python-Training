{
 "cells": [
  {
   "cell_type": "code",
   "execution_count": 1,
   "metadata": {},
   "outputs": [],
   "source": [
    "%config IPCompleter.greedy=True #to give intelisense in notebook"
   ]
  },
  {
   "cell_type": "code",
   "execution_count": 4,
   "metadata": {},
   "outputs": [
    {
     "name": "stdout",
     "output_type": "stream",
     "text": [
      "[0, 100, 200, 300]\n"
     ]
    }
   ],
   "source": [
    "# map returns generator object\n",
    "l =[100,200,300,400]\n",
    "def disc(p):\n",
    "    return p-100\n",
    "r1 = map(disc,l)\n",
    "print(list(r1))"
   ]
  },
  {
   "cell_type": "code",
   "execution_count": 7,
   "metadata": {},
   "outputs": [
    {
     "name": "stdout",
     "output_type": "stream",
     "text": [
      "[300, 400]\n"
     ]
    }
   ],
   "source": [
    "# filter will decide whether to keep element or not. returns generator object\n",
    "def filt_gt_100(p):\n",
    "    return p>200\n",
    "r2 = filter(filt_gt_100,l)\n",
    "print(list(r2))"
   ]
  },
  {
   "cell_type": "code",
   "execution_count": 15,
   "metadata": {},
   "outputs": [
    {
     "name": "stdout",
     "output_type": "stream",
     "text": [
      "200\n",
      "200\n",
      "w-e-r\n"
     ]
    }
   ],
   "source": [
    "from functools import reduce\n",
    "\n",
    "def red(p,q):\n",
    "    return q-p\n",
    "r3 = reduce(red,l) # (400-(300-(200-100))\n",
    "print((400-(300-(200-100))))\n",
    "print(r3)\n",
    "# m = ['w','e','r']\n",
    "# print(reduce(red,m))\n",
    "print('-'.join(m))"
   ]
  },
  {
   "cell_type": "code",
   "execution_count": null,
   "metadata": {},
   "outputs": [],
   "source": []
  }
 ],
 "metadata": {
  "kernelspec": {
   "display_name": "Python 3",
   "language": "python",
   "name": "python3"
  },
  "language_info": {
   "codemirror_mode": {
    "name": "ipython",
    "version": 3
   },
   "file_extension": ".py",
   "mimetype": "text/x-python",
   "name": "python",
   "nbconvert_exporter": "python",
   "pygments_lexer": "ipython3",
   "version": "3.8.0"
  }
 },
 "nbformat": 4,
 "nbformat_minor": 4
}
