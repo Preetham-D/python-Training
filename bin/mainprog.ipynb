{
 "cells": [
  {
   "cell_type": "code",
   "execution_count": 1,
   "metadata": {},
   "outputs": [],
   "source": [
    "%config IPCompleter.greedy = True"
   ]
  },
  {
   "cell_type": "code",
   "execution_count": 2,
   "metadata": {},
   "outputs": [
    {
     "name": "stdout",
     "output_type": "stream",
     "text": [
      "pokade\n",
      "addmodule\n",
      "Module Demo 40\n"
     ]
    }
   ],
   "source": [
    "import addmodule as a \n",
    "\n",
    "print(a.msg,a.add(10,30))"
   ]
  },
  {
   "cell_type": "code",
   "execution_count": 3,
   "metadata": {},
   "outputs": [
    {
     "name": "stdout",
     "output_type": "stream",
     "text": [
      "['E:\\\\Workspace\\\\bin', 'E:\\\\Workspace\\\\lib', 'C:\\\\Users\\\\admin\\\\AppData\\\\Local\\\\Programs\\\\Python\\\\Python38\\\\python38.zip', 'C:\\\\Users\\\\admin\\\\AppData\\\\Local\\\\Programs\\\\Python\\\\Python38\\\\DLLs', 'C:\\\\Users\\\\admin\\\\AppData\\\\Local\\\\Programs\\\\Python\\\\Python38\\\\lib', 'C:\\\\Users\\\\admin\\\\AppData\\\\Local\\\\Programs\\\\Python\\\\Python38', 'e:\\\\Workspace\\\\training', '', 'e:\\\\Workspace\\\\training\\\\lib\\\\site-packages', 'e:\\\\Workspace\\\\training\\\\lib\\\\site-packages\\\\win32', 'e:\\\\Workspace\\\\training\\\\lib\\\\site-packages\\\\win32\\\\lib', 'e:\\\\Workspace\\\\training\\\\lib\\\\site-packages\\\\Pythonwin', 'e:\\\\Workspace\\\\training\\\\lib\\\\site-packages\\\\IPython\\\\extensions', 'C:\\\\Users\\\\admin\\\\.ipython']\n"
     ]
    }
   ],
   "source": [
    "import sys\n",
    "print(sys.path) #includes all the paths from where import will search\n",
    "# sys.path.append() we can add desired path"
   ]
  },
  {
   "cell_type": "code",
   "execution_count": 4,
   "metadata": {},
   "outputs": [
    {
     "name": "stdout",
     "output_type": "stream",
     "text": [
      "pokade\n",
      "addmodule\n",
      "Module Demo 40\n"
     ]
    }
   ],
   "source": [
    "from addmodule import msg , add #imports only selected things\n",
    "\n",
    "print(msg,add(10,30))"
   ]
  },
  {
   "cell_type": "code",
   "execution_count": 5,
   "metadata": {},
   "outputs": [
    {
     "name": "stdout",
     "output_type": "stream",
     "text": [
      "pokade\n",
      "addmodule\n",
      "Module Demo 81\n"
     ]
    }
   ],
   "source": [
    "from addmodule import * #imports everything\n",
    "\n",
    "print(msg,add(80,1))"
   ]
  },
  {
   "cell_type": "code",
   "execution_count": 6,
   "metadata": {},
   "outputs": [
    {
     "name": "stdout",
     "output_type": "stream",
     "text": [
      "Inside Init\n",
      "Module Demo\n"
     ]
    }
   ],
   "source": [
    "import project.net.addmodule as c\n",
    "\n",
    "print(c.msg)"
   ]
  },
  {
   "cell_type": "code",
   "execution_count": null,
   "metadata": {},
   "outputs": [],
   "source": []
  }
 ],
 "metadata": {
  "kernelspec": {
   "display_name": "Python 3.8.0 64-bit ('training': venv)",
   "language": "python",
   "name": "python38064bittrainingvenv19964c2bccb1434c850ff4ca6cd876dd"
  },
  "language_info": {
   "codemirror_mode": {
    "name": "ipython",
    "version": 3
   },
   "file_extension": ".py",
   "mimetype": "text/x-python",
   "name": "python",
   "nbconvert_exporter": "python",
   "pygments_lexer": "ipython3",
   "version": "3.8.0"
  }
 },
 "nbformat": 4,
 "nbformat_minor": 4
}
