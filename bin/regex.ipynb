{
 "cells": [
  {
   "cell_type": "code",
   "execution_count": 1,
   "metadata": {},
   "outputs": [],
   "source": [
    "%config IPCompleter.greedy = True"
   ]
  },
  {
   "cell_type": "code",
   "execution_count": 49,
   "metadata": {},
   "outputs": [
    {
     "name": "stdout",
     "output_type": "stream",
     "text": [
      "123.123.123.123 26/Apr/2000 wpaper.gif http://www.jafsoft.com/asctortf\n",
      "123.123.123.123 26/Apr/2000 5star2000.gif http://www.jafsoft.com/asctortf\n",
      "123.123.123.123 26/Apr/2000 5star.gif http://www.jafsoft.com/asctortf\n",
      "123.123.123.123 26/Apr/2000 a2hlogo.jpg http://www.jafsoft.com/asctortf\n",
      "123.123.123.123 26/Apr/2000 a2hlogo.jpg http://www.jafsoft.com/asctortf\n"
     ]
    }
   ],
   "source": [
    "import sqlite3\n",
    "# for mysql import pymysql \n",
    "# con = pymysql.connect(user='',password='',host='',port='',database='')\n",
    "con = sqlite3.connect('mydb.sqlite3')\n",
    "cur = con.cursor()\n",
    "query = '''CREATE TABLE IF NOT EXISTS LOGDATA(\n",
    "IP VARCHAR(100),\n",
    "DATE VARCHAR(100),\n",
    "PICS VARCHAR(100),\n",
    "URL VARCHAR(100)\n",
    ")'''\n",
    "cur.execute(query)\n",
    "server_url = 'https://www.jafsoft.com/searchengines/log_sample.html'\n",
    "import urllib.request as u\n",
    "f = u.urlopen(server_url)\n",
    "import re\n",
    "# print(m)\n",
    "regex = '.*(\\d\\d\\d\\.\\d{3}[.]\\d{1,3}\\.[0-9]{1,3}).*?(\\d{1,2}/[a-zA-Z]{3}/\\d{4}).*(GET|POST)\\s+/(pics/(\\w+\\.\\w+))?.*(http[s]?:\\S+)/<\\S.*'\n",
    "    #     print(line,type(line))\n",
    "for line in f:\n",
    "    line = line.decode()#convert bytes to string\n",
    "    #     print(line,type(line))\n",
    "    m = re.match(regex,line)\n",
    "    # * is a greedy opereator. Adding ? after like *? will make it non greedy\n",
    "    #     target line '123.123.123' \\d => any number in 0-9; \\. => .; . => any char\n",
    "    # {} => quantifier; [] => identifier \n",
    "    #     * => 0 or more; + => 1 or more ; ? =>1 or 0 ; .* => any number of any character\n",
    "    # [abc] => a or b or c\n",
    "    # (abc) => abc together \n",
    "    if m!= None:\n",
    "        ip = m.group(1)#group starts with left and 1\n",
    "        date = m.group(2)\n",
    "        if m.group(4) != None:\n",
    "            pic = m.group(5)\n",
    "        url = m.group(6)\n",
    "        print(ip,date,pic,url)\n",
    "        query = f\"INSERT INTO LOGDATA VALUES('{ip}','{date}','{pic}','{url}')\"\n",
    "        cur.execute(query)\n",
    "con.commit()\n",
    "\n",
    "\n"
   ]
  },
  {
   "cell_type": "code",
   "execution_count": null,
   "metadata": {},
   "outputs": [],
   "source": [
    "# \\   Used to drop the special meaning of character\n",
    "#     following it (discussed below)\n",
    "# []  Represent a character class\n",
    "# ^   Matches the beginning [^excludes these]\n",
    "# $   Matches the end\n",
    "# .   Matches any character except newline\n",
    "# ?   Matches zero or one occurrence.\n",
    "# |   Means OR (Matches with any of the characters\n",
    "#     separated by it.\n",
    "# *   Any number of occurrences (including 0 occurrences)\n",
    "# +   One ore more occurrences\n",
    "# {}  Indicate number of occurrences of a preceding RE \n",
    "#     to match.\n",
    "# # ()  Enclose a group of REs\n",
    "# \\d   Matches any decimal digit, this is equivalent\n",
    "#      to the set class [0-9].\n",
    "# \\D   Matches any non-digit character.\n",
    "# \\s   Matches any whitespace character.\n",
    "# \\S   Matches any non-whitespace character\n",
    "# \\w   Matches any alphanumeric character, this is\n",
    "#      equivalent to the class [a-zA-Z0-9_].\n",
    "# \\W   Matches any non-alphanumeric character. "
   ]
  },
  {
   "cell_type": "code",
   "execution_count": 50,
   "metadata": {},
   "outputs": [
    {
     "name": "stdout",
     "output_type": "stream",
     "text": [
      "[('123.123.123.123', '26/Apr/2000', 'wpaper.gif', 'http://www.jafsoft.com/asctortf'), ('123.123.123.123', '26/Apr/2000', '5star2000.gif', 'http://www.jafsoft.com/asctortf'), ('123.123.123.123', '26/Apr/2000', '5star.gif', 'http://www.jafsoft.com/asctortf'), ('123.123.123.123', '26/Apr/2000', 'a2hlogo.jpg', 'http://www.jafsoft.com/asctortf'), ('123.123.123.123', '26/Apr/2000', 'a2hlogo.jpg', 'http://www.jafsoft.com/asctortf')]\n"
     ]
    }
   ],
   "source": [
    "cur.execute('SELECT * FROM LOGDATA')\n",
    "result = cur.fetchall()\n",
    "print(result)"
   ]
  },
  {
   "cell_type": "code",
   "execution_count": null,
   "metadata": {},
   "outputs": [],
   "source": []
  }
 ],
 "metadata": {
  "kernelspec": {
   "display_name": "Python 3.8.0 64-bit ('training': venv)",
   "language": "python",
   "name": "python38064bittrainingvenv19964c2bccb1434c850ff4ca6cd876dd"
  },
  "language_info": {
   "codemirror_mode": {
    "name": "ipython",
    "version": 3
   },
   "file_extension": ".py",
   "mimetype": "text/x-python",
   "name": "python",
   "nbconvert_exporter": "python",
   "pygments_lexer": "ipython3",
   "version": "3.8.0"
  }
 },
 "nbformat": 4,
 "nbformat_minor": 4
}
