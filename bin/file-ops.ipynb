{
 "cells": [
  {
   "cell_type": "code",
   "execution_count": 3,
   "metadata": {},
   "outputs": [],
   "source": [
    "%config IPCompleter.greedy=True #to give intelisense in notebook"
   ]
  },
  {
   "cell_type": "code",
   "execution_count": 26,
   "metadata": {},
   "outputs": [],
   "source": [
    "f1 = open('out1.txt','w')\n",
    "x= '10\\n'\n",
    "s= 'python\\n'\n",
    "f1.write('10 '+'python\\n')\n",
    "f1.writelines([x,s])\n",
    "f1.flush()\n",
    "f1.close()"
   ]
  },
  {
   "cell_type": "code",
   "execution_count": 38,
   "metadata": {},
   "outputs": [
    {
     "name": "stdout",
     "output_type": "stream",
     "text": [
      "10 python\n",
      "10\n",
      "python\n",
      "\n",
      "read  \n",
      "10 python\n",
      "10\n",
      "python\n",
      "\n",
      "readline 10 python\n",
      "\n",
      "['10 python\\n', '10\\n', 'python\\n']\n",
      "line= 10 python\n",
      "line= 10\n",
      "line= python\n",
      "23\n",
      "['10 python\\n', '10\\n', 'python\\n'] ('10 python\\n', '10\\n', 'python\\n')\n"
     ]
    }
   ],
   "source": [
    "f2 = open('out1.txt','r') #for 'r' file must exist\n",
    "print(f2.read())\n",
    "print('read ', f2.read()) # will be empty coz seek pointer will be at the end of the file\n",
    "f2.seek(0)\n",
    "print(f2.read())\n",
    "f2.seek(0)\n",
    "print('readline',f2.readline())\n",
    "# '' says EOF\n",
    "# 3rd\n",
    "f2.seek(0)\n",
    "r4 = f2.readlines() #return as a list\n",
    "print(r4)\n",
    "# 4th\n",
    "f2.seek(0)\n",
    "for line in f2:\n",
    "    print('line=',line.strip())\n",
    "    \n",
    "# 5th\n",
    "f2.seek(0)\n",
    "L = list(f2)\n",
    "print(f2.tell()) # tells the position of the seek pointer\n",
    "f2.seek(0)\n",
    "T= tuple(f2)\n",
    "print(L,T)\n",
    "f2.close()"
   ]
  },
  {
   "cell_type": "code",
   "execution_count": 37,
   "metadata": {},
   "outputs": [],
   "source": [
    "f3 = open('out2.txt','a')\n",
    "f4 = open('out3.csv','a')\n",
    "print(20,'java',sep='\\n',file=f3,flush=True)\n",
    "print(20,'java',sep=',',file=f4,flush=True)"
   ]
  },
  {
   "cell_type": "code",
   "execution_count": null,
   "metadata": {},
   "outputs": [],
   "source": [
    "# W+ write and read ,pointer at the start, can create new file\n",
    "# R+ write and read ,pointer at the start, cannot create new file\n",
    "# a+ write and read ,pointer at the end, can create new file\n"
   ]
  }
 ],
 "metadata": {
  "kernelspec": {
   "display_name": "Python 3",
   "language": "python",
   "name": "python3"
  },
  "language_info": {
   "codemirror_mode": {
    "name": "ipython",
    "version": 3
   },
   "file_extension": ".py",
   "mimetype": "text/x-python",
   "name": "python",
   "nbconvert_exporter": "python",
   "pygments_lexer": "ipython3",
   "version": "3.8.0"
  }
 },
 "nbformat": 4,
 "nbformat_minor": 4
}
