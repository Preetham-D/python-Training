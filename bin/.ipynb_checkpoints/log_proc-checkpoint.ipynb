{
 "cells": [
  {
   "cell_type": "code",
   "execution_count": 2,
   "metadata": {},
   "outputs": [],
   "source": [
    "%config IPCompleter.greedy=True #to give intelisense in notebook"
   ]
  },
  {
   "cell_type": "code",
   "execution_count": 19,
   "metadata": {},
   "outputs": [],
   "source": [
    "f1 = open('out4.txt','w')\n",
    "f2 = open('ou4.csv','w')\n",
    "print('IP','DATE','PICS','URL',sep='\\t',flush=True,file=f1)\n",
    "print('IP','DATE','PICS','URL',sep=',',flush=True,file=f2)\n",
    "f3 = open('serverlog.txt') #default mode is r\n",
    "for line in f3:\n",
    "    if line[:3].isdigit():\n",
    "#         print(line)\n",
    "        sp = line.split()\n",
    "        ip = sp[0]\n",
    "        date = sp[3][1:sp[3].index(':')]\n",
    "        if sp[6].startswith('/pics'):\n",
    "            pic = sp[6].split('/')[-1]\n",
    "        else:\n",
    "            pic = 'No Image'\n",
    "        if sp[10].startswith('\"http'):\n",
    "            url = sp[10].strip('\"')\n",
    "        else:\n",
    "            url = 'No URL'\n",
    "        print(ip,date,pic,url,sep='\\t',flush=True,file=f1)\n",
    "        print(ip,date,pic,url,sep=',',flush=True,file=f2)\n",
    "f1.close()\n",
    "f2.close()\n",
    "f3.close()"
   ]
  },
  {
   "cell_type": "code",
   "execution_count": null,
   "metadata": {},
   "outputs": [],
   "source": []
  },
  {
   "cell_type": "code",
   "execution_count": null,
   "metadata": {},
   "outputs": [],
   "source": []
  }
 ],
 "metadata": {
  "kernelspec": {
   "display_name": "Python 3",
   "language": "python",
   "name": "python3"
  },
  "language_info": {
   "codemirror_mode": {
    "name": "ipython",
    "version": 3
   },
   "file_extension": ".py",
   "mimetype": "text/x-python",
   "name": "python",
   "nbconvert_exporter": "python",
   "pygments_lexer": "ipython3",
   "version": "3.8.0"
  }
 },
 "nbformat": 4,
 "nbformat_minor": 4
}
