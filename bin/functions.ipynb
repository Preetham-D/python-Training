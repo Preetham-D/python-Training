{
 "cells": [
  {
   "cell_type": "code",
   "execution_count": 1,
   "metadata": {},
   "outputs": [],
   "source": [
    "%config IPCompleter.greedy = True"
   ]
  },
  {
   "cell_type": "code",
   "execution_count": 11,
   "metadata": {},
   "outputs": [
    {
     "name": "stdout",
     "output_type": "stream",
     "text": [
      "Inaccesible code block\n",
      "10 20 1.0\n"
     ]
    }
   ],
   "source": [
    "def add():\n",
    "    a=10\n",
    "    b=20\n",
    "#     print(a+b)\n",
    "#     return \n",
    "#     return a+b\n",
    "    print('Inaccesible code block')\n",
    "    return a,b, a+b/b-a\n",
    "a,b,c = add()\n",
    "print(a,b,c)"
   ]
  },
  {
   "cell_type": "code",
   "execution_count": 13,
   "metadata": {},
   "outputs": [
    {
     "name": "stdout",
     "output_type": "stream",
     "text": [
      "5 -5\n"
     ]
    }
   ],
   "source": [
    "def sub(a,b): #positional args\n",
    "    return a-b\n",
    "print(sub(10,5),sub(5,10))"
   ]
  },
  {
   "cell_type": "code",
   "execution_count": 1,
   "metadata": {},
   "outputs": [
    {
     "name": "stdout",
     "output_type": "stream",
     "text": [
      "11\n",
      "2\n"
     ]
    }
   ],
   "source": [
    "# with default values\n",
    "def add(a,b=10):\n",
    "    return a+b\n",
    "print(add(1))#only incase of missing value it'll use default values\n",
    "print(add(1,1))"
   ]
  },
  {
   "cell_type": "code",
   "execution_count": 5,
   "metadata": {},
   "outputs": [
    {
     "name": "stdout",
     "output_type": "stream",
     "text": [
      "Arguments in c (3, 4, 5, 6, 7)\n",
      "28\n",
      "Arguments in c ()\n",
      "11\n"
     ]
    }
   ],
   "source": [
    "# variable argument\n",
    "def adds(a,b=10,*c): #here c will ba tuple and can take any number of arguments\n",
    "    print('Arguments in c',c)\n",
    "    return a+b+sum(c)\n",
    "print(adds(1,2,3,4,5,6,7,))\n",
    "print(adds(1))# b will take 10 by default\n"
   ]
  },
  {
   "cell_type": "code",
   "execution_count": 28,
   "metadata": {},
   "outputs": [
    {
     "name": "stdout",
     "output_type": "stream",
     "text": [
      "[b'comprehensions.ipynb  for-ex.ipynb     log_proc.ipynb  out1.txt  pokade\\nday-1-str-ex.ipynb    functions.ipynb  log-proc.py     out2.txt  serverlog.txt\\ndict-ex.ipynb\\t      if-ex.ipynb      num_ex.py       out3.csv  str_ex.py\\nfile-ops.ipynb\\t      List-ex.ipynb    ou4.csv\\t       out4.txt  test.py\\n', b'\\r\\nWindows IP Configuration\\r\\n\\r\\n\\r\\nWireless LAN adapter Local Area Connection* 3:\\r\\n\\r\\n   Media State . . . . . . . . . . . : Media disconnected\\r\\n   Connection-specific DNS Suffix  . : \\r\\n\\r\\nEthernet adapter Bluetooth Network Connection:\\r\\n\\r\\n   Media State . . . . . . . . . . . : Media disconnected\\r\\n   Connection-specific DNS Suffix  . : \\r\\n\\r\\nWireless LAN adapter Wi-Fi:\\r\\n\\r\\n   Connection-specific DNS Suffix  . : \\r\\n   Link-local IPv6 Address . . . . . : fe80::5c19:8267:9740:9333%4\\r\\n   IPv4 Address. . . . . . . . . . . : 192.168.0.111\\r\\n   Subnet Mask . . . . . . . . . . . : 255.255.255.0\\r\\n   Default Gateway . . . . . . . . . : 192.168.0.1\\r\\n\\r\\nTunnel adapter isatap.{85D9A208-4A8D-4866-A28B-A707244E18B9}:\\r\\n\\r\\n   Media State . . . . . . . . . . . : Media disconnected\\r\\n   Connection-specific DNS Suffix  . : \\r\\n']\n",
      "dir ipconfig\n"
     ]
    }
   ],
   "source": [
    "import subprocess\n",
    "def sys_cmds(host=None,port=None,*cmd):\n",
    "    if len(cmd)>0:\n",
    "        result =[]\n",
    "        for each_cmd in cmd:\n",
    "            r = subprocess.check_output(each_cmd)\n",
    "            result.append(r)\n",
    "        return result\n",
    "    else:\n",
    "        return 'No cmds to execute'\n",
    "# print(sys_cmds(None,None,'dir','ipconfig'))\n",
    "c = ['dir', 'ipconfig']\n",
    "print(sys_cmds(None,None,*c))#*c will unpack the list and send elements **will unpack dictionary\n",
    "print(*c)"
   ]
  },
  {
   "cell_type": "code",
   "execution_count": 35,
   "metadata": {},
   "outputs": [
    {
     "name": "stdout",
     "output_type": "stream",
     "text": [
      "a= 1 b= 2 c= (3, 4, 5) d= 2 e= 10\n",
      "27\n"
     ]
    }
   ],
   "source": [
    "# keyword only arguments\n",
    "def add(a,b=10,*c,d=20,e):\n",
    "    print('a=',a,'b=',b,'c=',c,'d=',d,'e=',e)\n",
    "    return a+b+sum(c)+e+d\n",
    "print(add(1,2,3,4,5,e=10,d=2))"
   ]
  },
  {
   "cell_type": "code",
   "execution_count": 38,
   "metadata": {},
   "outputs": [
    {
     "name": "stdout",
     "output_type": "stream",
     "text": [
      "dict_keys(['x', 'y']) dict_values([8, 9])\n",
      "45\n"
     ]
    }
   ],
   "source": [
    "# variable keyword only args\n",
    "def add(a,b=10,*c,d=10,e,**f): #f will be stored as dictionary\n",
    "    print(f.keys(),f.values())\n",
    "    return a+b+sum(c)+d+e+sum(f.values())\n",
    "print(add(1,2,3,4,5,x=8,y=9,d=6,e=7))"
   ]
  },
  {
   "cell_type": "code",
   "execution_count": null,
   "metadata": {},
   "outputs": [],
   "source": []
  }
 ],
 "metadata": {
  "kernelspec": {
   "display_name": "Python 3",
   "language": "python",
   "name": "python3"
  },
  "language_info": {
   "codemirror_mode": {
    "name": "ipython",
    "version": 3
   },
   "file_extension": ".py",
   "mimetype": "text/x-python",
   "name": "python",
   "nbconvert_exporter": "python",
   "pygments_lexer": "ipython3",
   "version": "3.8.0"
  }
 },
 "nbformat": 4,
 "nbformat_minor": 4
}
