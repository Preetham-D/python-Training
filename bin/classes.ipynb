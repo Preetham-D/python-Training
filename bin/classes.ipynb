{
 "cells": [
  {
   "cell_type": "code",
   "execution_count": 1,
   "metadata": {},
   "outputs": [],
   "source": [
    "%config IPCompleter.greedy = True "
   ]
  },
  {
   "cell_type": "code",
   "execution_count": 2,
   "metadata": {},
   "outputs": [],
   "source": [
    "# Classes\n",
    "# collection of functions and variables\n",
    "#can create multiple objects\n",
    "#inheritence\n",
    "#Operator overloading\n",
    "\n",
    "\n",
    "#     name is instance variable\n",
    "# adduser and viewuser => intance method \n",
    "# self variables are instance variables and self methods are instance methods\n"
   ]
  },
  {
   "cell_type": "code",
   "execution_count": 10,
   "metadata": {},
   "outputs": [
    {
     "name": "stdout",
     "output_type": "stream",
     "text": [
      "SB logic here\n",
      "SB logic here\n",
      "preetham Canara ICICI\n",
      "BrulesBLR bankinfo\n",
      "Brulesudupi bankinfo\n"
     ]
    }
   ],
   "source": [
    "class Account:\n",
    "    def adduser(self,n):\n",
    "        self.name = n  \n",
    "\n",
    "    def viewuser(self):\n",
    "        return self.name\n",
    "    bank = 'ICICI' #class variable\n",
    "    @classmethod\n",
    "    def bankrules(cls,area):#cls class object\n",
    "        return 'Brules'+area;\n",
    "    \n",
    "    @staticmethod\n",
    "    def bankinfo():#zero or more argument and will not get any object reference\n",
    "        return 'bankinfo'\n",
    "    \n",
    "    def __init__(self):\n",
    "        print('SB logic here')\n",
    "        \n",
    "a = Account()\n",
    "a.bank = 'Canara'\n",
    "# del Account\n",
    "b = Account()\n",
    "a.adduser('preetham')\n",
    "print(a.viewuser(),a.bank,b.bank)\n",
    "print(Account.bankrules('BLR'),Account.bankinfo())\n",
    "print(a.bankrules('udupi'),a.bankinfo())\n",
    "# here a.bank became instance variable"
   ]
  },
  {
   "cell_type": "code",
   "execution_count": 15,
   "metadata": {},
   "outputs": [
    {
     "name": "stdout",
     "output_type": "stream",
     "text": [
      "CA logic here\n",
      "ICICI 123456 Welcome Preetham\n"
     ]
    }
   ],
   "source": [
    "class Account2(Account):\n",
    "    def addAdhar(self,n):\n",
    "        self.adhar = n\n",
    "    def viewadhar(self):\n",
    "        return self.adhar\n",
    "    def viewuser(self): # will over-ride viewuser of parent class\n",
    "        return 'Welcome '+ self.name\n",
    "    \n",
    "    def __init__(self):\n",
    "        \n",
    "        print('CA logic here')\n",
    "c = Account2()\n",
    "c.adduser('Preetham')\n",
    "c.addAdhar('123456')\n",
    "print(c.bank,c.viewadhar(),c.viewuser())"
   ]
  },
  {
   "cell_type": "code",
   "execution_count": 24,
   "metadata": {},
   "outputs": [
    {
     "name": "stdout",
     "output_type": "stream",
     "text": [
      "CA logic here\n",
      "SB logic here\n",
      "ICICI 123456 Welcome Preetham\n"
     ]
    }
   ],
   "source": [
    "class Account3(Account):\n",
    "    def addAdhar(self,n):\n",
    "        self.adhar = n\n",
    "    def viewadhar(self):\n",
    "        return self.adhar\n",
    "    def viewuser(self): # will over-ride viewuser of parent class\n",
    "        return 'Welcome '+ self.name\n",
    "    \n",
    "    def viewrules(self):\n",
    "        return \"ACC2 RULES\"\n",
    "    \n",
    "    def __init__(self):\n",
    "#         super().__init__()\n",
    "        print('CA logic here')\n",
    "        Account.__init__(self)#to implement super class logic too\n",
    "c = Account3()\n",
    "c.adduser('Preetham')\n",
    "c.addAdhar('123456')\n",
    "print(c.bank,c.viewadhar(),c.viewuser())\n"
   ]
  },
  {
   "cell_type": "code",
   "execution_count": 25,
   "metadata": {},
   "outputs": [
    {
     "name": "stdout",
     "output_type": "stream",
     "text": [
      "CA logic here\n",
      "SB logic here\n",
      "CA logic here\n",
      "SB logic here\n",
      "ACC2 RULES RBI RULES\n"
     ]
    }
   ],
   "source": [
    "class RBI:\n",
    "    def viewrules(self):\n",
    "        return \"RBI RULES\"\n",
    "class Acc4(Account3,RBI):\n",
    "    pass\n",
    "class Acc5(RBI,Account3):#checking from left to right\n",
    "    pass\n",
    "d = Acc4()\n",
    "e = Acc5()\n",
    "print(d.viewrules(),e.viewrules())"
   ]
  },
  {
   "cell_type": "code",
   "execution_count": null,
   "metadata": {},
   "outputs": [],
   "source": [
    "# checkout multiple inheritence\n",
    "\n",
    "\n"
   ]
  },
  {
   "cell_type": "code",
   "execution_count": 33,
   "metadata": {},
   "outputs": [
    {
     "name": "stdout",
     "output_type": "stream",
     "text": [
      "hello xcv\n"
     ]
    }
   ],
   "source": [
    "# abstract class\n",
    "from abc import ABC , abstractmethod\n",
    "\n",
    "class Acc(ABC):\n",
    "    \n",
    "    def adduser(self,a):\n",
    "        self.name = a\n",
    "        \n",
    "    @abstractmethod\n",
    "    def viewuser(self):\n",
    "        pass\n",
    "    \n",
    "class MyAcc(Acc):\n",
    "    def viewuser(self):\n",
    "        return 'hello '+self.name\n",
    "# a = Acc()\n",
    "b= MyAcc()\n",
    "b.adduser('xcv')\n",
    "print(b.viewuser())"
   ]
  },
  {
   "cell_type": "code",
   "execution_count": 35,
   "metadata": {},
   "outputs": [
    {
     "name": "stdout",
     "output_type": "stream",
     "text": [
      "xcv\n"
     ]
    }
   ],
   "source": [
    "# factory design pattern\n",
    "class MA():\n",
    "    def msg(self):\n",
    "        print('IN MA')\n",
    "        \n",
    "class CA(MA):\n",
    "    def adduser(self,n):\n",
    "        self.name = n\n",
    "\n",
    "class BI(MA):\n",
    "    def viewinfo(self):\n",
    "        print('bank info')\n",
    "        \n",
    "class AFactory():\n",
    "    def getobj(self , type):\n",
    "        if type == 'CA':\n",
    "            return CA()\n",
    "        else:\n",
    "            return BI()\n",
    "\n",
    "af = AFactory()\n",
    "x = af.getobj('CA')\n",
    "x.adduser('xcv')\n",
    "print(x.name)"
   ]
  },
  {
   "cell_type": "code",
   "execution_count": null,
   "metadata": {},
   "outputs": [],
   "source": []
  }
 ],
 "metadata": {
  "kernelspec": {
   "display_name": "Python 3.8.0 64-bit ('training': venv)",
   "language": "python",
   "name": "python38064bittrainingvenv19964c2bccb1434c850ff4ca6cd876dd"
  },
  "language_info": {
   "codemirror_mode": {
    "name": "ipython",
    "version": 3
   },
   "file_extension": ".py",
   "mimetype": "text/x-python",
   "name": "python",
   "nbconvert_exporter": "python",
   "pygments_lexer": "ipython3",
   "version": "3.8.0"
  }
 },
 "nbformat": 4,
 "nbformat_minor": 4
}
