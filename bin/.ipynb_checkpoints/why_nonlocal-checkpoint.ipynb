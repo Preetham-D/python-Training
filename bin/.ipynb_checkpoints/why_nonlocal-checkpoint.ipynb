{
 "cells": [
  {
   "cell_type": "code",
   "execution_count": 1,
   "metadata": {},
   "outputs": [],
   "source": [
    "%config IPCompleter.greedy=True #to give intelisense in notebook"
   ]
  },
  {
   "cell_type": "code",
   "execution_count": 12,
   "metadata": {},
   "outputs": [
    {
     "name": "stdout",
     "output_type": "stream",
     "text": [
      "(0, 1, 0)\n"
     ]
    }
   ],
   "source": [
    "# check when nonlocal key word is used\n",
    "def Acc():\n",
    "    c=0\n",
    "    ta = c\n",
    "    def CA():\n",
    "        nonlocal c\n",
    "        c = c+1\n",
    "        return c\n",
    "    ca = CA()\n",
    "    def DA():\n",
    "        nonlocal c\n",
    "        c = c-1\n",
    "        return c\n",
    "    da = DA()\n",
    "    return ta,ca,da\n",
    "print(Acc())"
   ]
  },
  {
   "cell_type": "code",
   "execution_count": null,
   "metadata": {},
   "outputs": [],
   "source": []
  }
 ],
 "metadata": {
  "kernelspec": {
   "display_name": "Python 3",
   "language": "python",
   "name": "python3"
  },
  "language_info": {
   "codemirror_mode": {
    "name": "ipython",
    "version": 3
   },
   "file_extension": ".py",
   "mimetype": "text/x-python",
   "name": "python",
   "nbconvert_exporter": "python",
   "pygments_lexer": "ipython3",
   "version": "3.8.0"
  }
 },
 "nbformat": 4,
 "nbformat_minor": 4
}
