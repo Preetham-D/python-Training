{
 "cells": [
  {
   "cell_type": "code",
   "execution_count": 1,
   "metadata": {},
   "outputs": [],
   "source": [
    "%config IPCompleter.greedy = True"
   ]
  },
  {
   "cell_type": "code",
   "execution_count": 2,
   "metadata": {},
   "outputs": [],
   "source": [
    "import pandas as pd"
   ]
  },
  {
   "cell_type": "code",
   "execution_count": 3,
   "metadata": {},
   "outputs": [
    {
     "name": "stdout",
     "output_type": "stream",
     "text": [
      "[[10, 20, 30], [40, 50, 60]] [[10, 20, 30], [40, 50, 60]]\n"
     ]
    }
   ],
   "source": [
    "l1 = [[10,20,30],[40,50,60]]\n",
    "l2 = list([[10,20,30],[40,50,60]])\n",
    "print(l2,l1)"
   ]
  },
  {
   "cell_type": "code",
   "execution_count": 4,
   "metadata": {},
   "outputs": [
    {
     "name": "stdout",
     "output_type": "stream",
     "text": [
      "    c1  c2  c3\n",
      "r1  10  20  30\n",
      "r2  40  50  60\n"
     ]
    }
   ],
   "source": [
    "df1 = pd.DataFrame(l1,index=['r1','r2'],columns = ['c1','c2','c3'])\n",
    "print(df1)"
   ]
  },
  {
   "cell_type": "code",
   "execution_count": 5,
   "metadata": {},
   "outputs": [
    {
     "name": "stdout",
     "output_type": "stream",
     "text": [
      "                  0            1              2  \\\n",
      "0                ip         date            pic   \n",
      "1   123.123.123.123  26/Apr/2000     wpaper.gif   \n",
      "2   123.123.123.123  26/Apr/2000  5star2000.gif   \n",
      "3   123.123.123.123  26/Apr/2000      5star.gif   \n",
      "4   123.123.123.123  26/Apr/2000    a2hlogo.jpg   \n",
      "5   123.123.123.123  26/Apr/2000    a2hlogo.jpg   \n",
      "6   123.123.123.123  26/Apr/2000     wpaper.gif   \n",
      "7   123.123.123.123  26/Apr/2000  5star2000.gif   \n",
      "8   123.123.123.123  26/Apr/2000      5star.gif   \n",
      "9   123.123.123.123  26/Apr/2000    a2hlogo.jpg   \n",
      "10  123.123.123.123  26/Apr/2000    a2hlogo.jpg   \n",
      "\n",
      "                                  3  \n",
      "0                               url  \n",
      "1   http://www.jafsoft.com/asctortf  \n",
      "2   http://www.jafsoft.com/asctortf  \n",
      "3   http://www.jafsoft.com/asctortf  \n",
      "4   http://www.jafsoft.com/asctortf  \n",
      "5   http://www.jafsoft.com/asctortf  \n",
      "6   http://www.jafsoft.com/asctortf  \n",
      "7   http://www.jafsoft.com/asctortf  \n",
      "8   http://www.jafsoft.com/asctortf  \n",
      "9   http://www.jafsoft.com/asctortf  \n",
      "10  http://www.jafsoft.com/asctortf  \n",
      "0                ip         date            pic  \\\n",
      "1   123.123.123.123  26/Apr/2000     wpaper.gif   \n",
      "2   123.123.123.123  26/Apr/2000  5star2000.gif   \n",
      "3   123.123.123.123  26/Apr/2000      5star.gif   \n",
      "4   123.123.123.123  26/Apr/2000    a2hlogo.jpg   \n",
      "5   123.123.123.123  26/Apr/2000    a2hlogo.jpg   \n",
      "6   123.123.123.123  26/Apr/2000     wpaper.gif   \n",
      "7   123.123.123.123  26/Apr/2000  5star2000.gif   \n",
      "8   123.123.123.123  26/Apr/2000      5star.gif   \n",
      "9   123.123.123.123  26/Apr/2000    a2hlogo.jpg   \n",
      "10  123.123.123.123  26/Apr/2000    a2hlogo.jpg   \n",
      "\n",
      "0                               url  \n",
      "1   http://www.jafsoft.com/asctortf  \n",
      "2   http://www.jafsoft.com/asctortf  \n",
      "3   http://www.jafsoft.com/asctortf  \n",
      "4   http://www.jafsoft.com/asctortf  \n",
      "5   http://www.jafsoft.com/asctortf  \n",
      "6   http://www.jafsoft.com/asctortf  \n",
      "7   http://www.jafsoft.com/asctortf  \n",
      "8   http://www.jafsoft.com/asctortf  \n",
      "9   http://www.jafsoft.com/asctortf  \n",
      "10  http://www.jafsoft.com/asctortf  \n"
     ]
    }
   ],
   "source": [
    "import csv\n",
    "\n",
    "f3 = open('dbdump.csv')\n",
    "rdr = csv.reader(f3)\n",
    "result = list(rdr)\n",
    "\n",
    "df2 = pd.DataFrame(result)\n",
    "print(df2)\n",
    "df2.columns = df2.iloc[0]\n",
    "df2= df2[1:]\n",
    "print(df2)\n",
    "df2.to_csv('out7.csv')\n",
    "df2.to_excel('out8.xlsx')\n",
    "df2.to_json('out9.json')\n",
    "df3 = df2.T\n",
    "df3.to_json('out9T.json')"
   ]
  },
  {
   "cell_type": "code",
   "execution_count": 6,
   "metadata": {},
   "outputs": [
    {
     "name": "stdout",
     "output_type": "stream",
     "text": [
      "                 0            1              2  \\\n",
      "0  123.123.123.123  26/Apr/2000     wpaper.gif   \n",
      "1  123.123.123.123  26/Apr/2000  5star2000.gif   \n",
      "2  123.123.123.123  26/Apr/2000      5star.gif   \n",
      "3  123.123.123.123  26/Apr/2000    a2hlogo.jpg   \n",
      "4  123.123.123.123  26/Apr/2000    a2hlogo.jpg   \n",
      "5  123.123.123.123  26/Apr/2000     wpaper.gif   \n",
      "6  123.123.123.123  26/Apr/2000  5star2000.gif   \n",
      "7  123.123.123.123  26/Apr/2000      5star.gif   \n",
      "8  123.123.123.123  26/Apr/2000    a2hlogo.jpg   \n",
      "9  123.123.123.123  26/Apr/2000    a2hlogo.jpg   \n",
      "\n",
      "                                 3  \n",
      "0  http://www.jafsoft.com/asctortf  \n",
      "1  http://www.jafsoft.com/asctortf  \n",
      "2  http://www.jafsoft.com/asctortf  \n",
      "3  http://www.jafsoft.com/asctortf  \n",
      "4  http://www.jafsoft.com/asctortf  \n",
      "5  http://www.jafsoft.com/asctortf  \n",
      "6  http://www.jafsoft.com/asctortf  \n",
      "7  http://www.jafsoft.com/asctortf  \n",
      "8  http://www.jafsoft.com/asctortf  \n",
      "9  http://www.jafsoft.com/asctortf  \n"
     ]
    }
   ],
   "source": [
    "import sqlite3\n",
    "# for mysql import pymysql \n",
    "# con = pymysql.connect(user='',password='',host='',port='',database='')\n",
    "con = sqlite3.connect('mydb.sqlite3')\n",
    "cur = con.cursor()\n",
    "cur.execute('SELECT * FROM LOGDATA')\n",
    "df4 = pd.DataFrame(cur)\n",
    "print(df4)"
   ]
  },
  {
   "cell_type": "code",
   "execution_count": 7,
   "metadata": {},
   "outputs": [
    {
     "name": "stdout",
     "output_type": "stream",
     "text": [
      "                ip         date            pic  \\\n",
      "0  123.123.123.123  26/Apr/2000     wpaper.gif   \n",
      "1  123.123.123.123  26/Apr/2000  5star2000.gif   \n",
      "2  123.123.123.123  26/Apr/2000      5star.gif   \n",
      "3  123.123.123.123  26/Apr/2000    a2hlogo.jpg   \n",
      "4  123.123.123.123  26/Apr/2000    a2hlogo.jpg   \n",
      "5  123.123.123.123  26/Apr/2000     wpaper.gif   \n",
      "6  123.123.123.123  26/Apr/2000  5star2000.gif   \n",
      "7  123.123.123.123  26/Apr/2000      5star.gif   \n",
      "8  123.123.123.123  26/Apr/2000    a2hlogo.jpg   \n",
      "9  123.123.123.123  26/Apr/2000    a2hlogo.jpg   \n",
      "\n",
      "                               url  \n",
      "0  http://www.jafsoft.com/asctortf  \n",
      "1  http://www.jafsoft.com/asctortf  \n",
      "2  http://www.jafsoft.com/asctortf  \n",
      "3  http://www.jafsoft.com/asctortf  \n",
      "4  http://www.jafsoft.com/asctortf  \n",
      "5  http://www.jafsoft.com/asctortf  \n",
      "6  http://www.jafsoft.com/asctortf  \n",
      "7  http://www.jafsoft.com/asctortf  \n",
      "8  http://www.jafsoft.com/asctortf  \n",
      "9  http://www.jafsoft.com/asctortf   \n",
      " ################################################################################\n",
      "                ip         date            pic  \\\n",
      "0  123.123.123.123  26/Apr/2000     wpaper.gif   \n",
      "1  123.123.123.123  26/Apr/2000  5star2000.gif   \n",
      "2  123.123.123.123  26/Apr/2000      5star.gif   \n",
      "\n",
      "                               url  \n",
      "0  http://www.jafsoft.com/asctortf  \n",
      "1  http://www.jafsoft.com/asctortf  \n",
      "2  http://www.jafsoft.com/asctortf   \n",
      " ################################################################################\n",
      "                ip         date          pic                              url\n",
      "7  123.123.123.123  26/Apr/2000    5star.gif  http://www.jafsoft.com/asctortf\n",
      "8  123.123.123.123  26/Apr/2000  a2hlogo.jpg  http://www.jafsoft.com/asctortf\n",
      "9  123.123.123.123  26/Apr/2000  a2hlogo.jpg  http://www.jafsoft.com/asctortf \n",
      " ################################################################################\n"
     ]
    }
   ],
   "source": [
    "df = pd.read_csv('dbdump.csv')\n",
    "print(df,'\\n','#'*80)\n",
    "line = '#'*80\n",
    "print(df.head(3),'\\n','#'*80)#top 5\n",
    "print(df.tail(3),'\\n','#'*80)# bottom 5"
   ]
  },
  {
   "cell_type": "code",
   "execution_count": 8,
   "metadata": {},
   "outputs": [
    {
     "name": "stdout",
     "output_type": "stream",
     "text": [
      "                     ip         date          pic  \\\n",
      "count                10           10           10   \n",
      "unique                1            1            4   \n",
      "top     123.123.123.123  26/Apr/2000  a2hlogo.jpg   \n",
      "freq                 10           10            4   \n",
      "\n",
      "                                    url  \n",
      "count                                10  \n",
      "unique                                1  \n",
      "top     http://www.jafsoft.com/asctortf  \n",
      "freq                                 10   \n",
      " ################################################################################\n"
     ]
    }
   ],
   "source": [
    "print(df.describe(),'\\n','#'*80)"
   ]
  },
  {
   "cell_type": "code",
   "execution_count": 9,
   "metadata": {},
   "outputs": [
    {
     "name": "stdout",
     "output_type": "stream",
     "text": [
      "0    123.123.123.123\n",
      "1    123.123.123.123\n",
      "2    123.123.123.123\n",
      "3    123.123.123.123\n",
      "4    123.123.123.123\n",
      "5    123.123.123.123\n",
      "6    123.123.123.123\n",
      "7    123.123.123.123\n",
      "8    123.123.123.123\n",
      "9    123.123.123.123\n",
      "Name: ip, dtype: object \n",
      " ################################################################################\n",
      "count                  10\n",
      "unique                  1\n",
      "top       123.123.123.123\n",
      "freq                   10\n",
      "Name: ip, dtype: object\n"
     ]
    }
   ],
   "source": [
    "print(df['ip'],'\\n','#'*80)\n",
    "print(df['ip'].describe())"
   ]
  },
  {
   "cell_type": "code",
   "execution_count": 10,
   "metadata": {},
   "outputs": [
    {
     "name": "stdout",
     "output_type": "stream",
     "text": [
      "a2hlogo.jpg      4\n",
      "wpaper.gif       2\n",
      "5star.gif        2\n",
      "5star2000.gif    2\n",
      "Name: pic, dtype: int64\n"
     ]
    }
   ],
   "source": [
    "df5 = df['pic'].value_counts()\n",
    "print(df5)"
   ]
  },
  {
   "cell_type": "code",
   "execution_count": 11,
   "metadata": {},
   "outputs": [
    {
     "data": {
      "image/png": "[encoded data removed]",
      "text/plain": [
       "<Figure size 432x288 with 1 Axes>"
      ]
     },
     "metadata": {
      "needs_background": "light"
     },
     "output_type": "display_data"
    },
    {
     "data": {
      "image/png": "[encoded data removed]",
      "text/plain": [
       "<Figure size 432x288 with 1 Axes>"
      ]
     },
     "metadata": {},
     "output_type": "display_data"
    }
   ],
   "source": [
    "import matplotlib.pyplot as plt\n",
    "df5.plot()\n",
    "df5.plot.area()\n",
    "# df5.plot.pie()\n",
    "plt.show()\n",
    "df5.plot.pie()\n",
    "plt.savefig('graph.png')"
   ]
  },
  {
   "cell_type": "code",
   "execution_count": 14,
   "metadata": {},
   "outputs": [],
   "source": [
    "writer = pd.ExcelWriter('report.xlsx',engine='xlsxwriter')\n",
    "df5.to_excel(writer,sheet_name='Data')\n",
    "wb = writer.book\n",
    "ws = wb.add_worksheet('Graph')\n",
    "ws.insert_image('B2','graph.png')\n",
    "writer.close()"
   ]
  },
  {
   "cell_type": "code",
   "execution_count": 18,
   "metadata": {},
   "outputs": [
    {
     "name": "stdout",
     "output_type": "stream",
     "text": [
      "26/Apr/2000\n",
      "\n",
      "\n",
      "\n",
      "ip                      123.123.123.123\n",
      "date                        26/Apr/2000\n",
      "pic                       5star2000.gif\n",
      "url     http://www.jafsoft.com/asctortf\n",
      "Name: 1, dtype: object\n",
      "\n",
      "\n",
      "\n",
      "0    26/Apr/2000\n",
      "1    26/Apr/2000\n",
      "2    26/Apr/2000\n",
      "3    26/Apr/2000\n",
      "4    26/Apr/2000\n",
      "5    26/Apr/2000\n",
      "6    26/Apr/2000\n",
      "7    26/Apr/2000\n",
      "8    26/Apr/2000\n",
      "9    26/Apr/2000\n",
      "Name: date, dtype: object\n",
      "\n",
      "\n",
      "\n",
      "                ip         date            pic  \\\n",
      "1  123.123.123.123  26/Apr/2000  5star2000.gif   \n",
      "\n",
      "                               url  \n",
      "1  http://www.jafsoft.com/asctortf  \n",
      "\n",
      "\n",
      "\n",
      "          date            pic\n",
      "1  26/Apr/2000  5star2000.gif\n",
      "3  26/Apr/2000    a2hlogo.jpg\n",
      "\n",
      "\n",
      "\n",
      "          date                              url\n",
      "1  26/Apr/2000  http://www.jafsoft.com/asctortf\n",
      "3  26/Apr/2000  http://www.jafsoft.com/asctortf\n",
      "5  26/Apr/2000  http://www.jafsoft.com/asctortf\n"
     ]
    }
   ],
   "source": [
    "# slicing\n",
    "# df.loc is used when row name and column name is required\n",
    "print(df.iloc[1,1],df.iloc[1],df.iloc[:,1],df.iloc[1:2],df.iloc[1:5:2,1:3:1],df.iloc[[1,3,5],[1,3]],sep='\\n\\n\\n\\n')"
   ]
  },
  {
   "cell_type": "code",
   "execution_count": null,
   "metadata": {},
   "outputs": [],
   "source": []
  }
 ],
 "metadata": {
  "kernelspec": {
   "display_name": "Python 3.8.0 64-bit ('training': venv)",
   "language": "python",
   "name": "python38064bittrainingvenv19964c2bccb1434c850ff4ca6cd876dd"
  },
  "language_info": {
   "codemirror_mode": {
    "name": "ipython",
    "version": 3
   },
   "file_extension": ".py",
   "mimetype": "text/x-python",
   "name": "python",
   "nbconvert_exporter": "python",
   "pygments_lexer": "ipython3",
   "version": "3.8.0"
  }
 },
 "nbformat": 4,
 "nbformat_minor": 4
}
